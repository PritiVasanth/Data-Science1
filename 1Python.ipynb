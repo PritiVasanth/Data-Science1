{
 "cells": [
  {
   "cell_type": "code",
   "execution_count": 1,
   "id": "01df9d77",
   "metadata": {},
   "outputs": [
    {
     "name": "stdout",
     "output_type": "stream",
     "text": [
      "Priti Varma\n"
     ]
    }
   ],
   "source": [
    "print (\"Priti Varma\")"
   ]
  },
  {
   "cell_type": "code",
   "execution_count": 2,
   "id": "e601dece",
   "metadata": {},
   "outputs": [
    {
     "name": "stdout",
     "output_type": "stream",
     "text": [
      "27\n"
     ]
    }
   ],
   "source": [
    "print (10+17)"
   ]
  },
  {
   "cell_type": "code",
   "execution_count": null,
   "id": "3e6df0c5",
   "metadata": {},
   "outputs": [],
   "source": []
  },
  {
   "cell_type": "code",
   "execution_count": null,
   "id": "4921e87e",
   "metadata": {},
   "outputs": [],
   "source": [
    "shift+enter = execute/run the cell\n",
    "ctrl + enter = execute/run\n",
    "esc+A= add a cell\n",
    "esc+DD= delete a cell"
   ]
  }
 ],
 "metadata": {
  "kernelspec": {
   "display_name": "Python 3 (ipykernel)",
   "language": "python",
   "name": "python3"
  },
  "language_info": {
   "codemirror_mode": {
    "name": "ipython",
    "version": 3
   },
   "file_extension": ".py",
   "mimetype": "text/x-python",
   "name": "python",
   "nbconvert_exporter": "python",
   "pygments_lexer": "ipython3",
   "version": "3.11.3"
  }
 },
 "nbformat": 4,
 "nbformat_minor": 5
}
